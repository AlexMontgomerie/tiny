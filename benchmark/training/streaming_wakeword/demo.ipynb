{
 "cells": [
  {
   "cell_type": "code",
   "execution_count": 1,
   "id": "386153cd-684f-4bca-a6ad-eca4bcccfb89",
   "metadata": {},
   "outputs": [
    {
     "name": "stderr",
     "output_type": "stream",
     "text": [
      "/Users/jeremy/miniforge3/envs/jh_main/lib/python3.11/site-packages/tqdm/auto.py:21: TqdmWarning: IProgress not found. Please update jupyter and ipywidgets. See https://ipywidgets.readthedocs.io/en/stable/user_install.html\n",
      "  from .autonotebook import tqdm as notebook_tqdm\n"
     ]
    }
   ],
   "source": [
    "import tensorflow as tf\n",
    "import tensorflow_datasets as tfds\n",
    "from tensorflow.lite.experimental.microfrontend.python.ops import audio_microfrontend_op as frontend_op\n",
    "from tensorflow import keras\n",
    "from tensorflow.keras import layers\n",
    "from tensorflow.python.platform import gfile\n",
    "\n",
    "import functools\n",
    "\n",
    "import matplotlib.pyplot as plt\n",
    "import numpy as np\n",
    "import seaborn as sns\n",
    "import os, pickle\n",
    "\n",
    "import str_ww_util as util\n",
    "import keras_model as models\n",
    "\n",
    "from IPython import display"
   ]
  },
  {
   "cell_type": "code",
   "execution_count": 2,
   "id": "d6132467-f897-42fe-a324-edd03ba13f0d",
   "metadata": {},
   "outputs": [],
   "source": [
    "rng = np.random.default_rng(2024)"
   ]
  },
  {
   "cell_type": "code",
   "execution_count": 3,
   "id": "1db02f34-2ff4-43b2-b86d-0b46f3a4d42e",
   "metadata": {},
   "outputs": [],
   "source": [
    "def convert_to_int16(sample_dict):\n",
    "  audio = sample_dict['audio']\n",
    "  label = sample_dict['label']\n",
    "  audio16 = tf.cast(audio, 'int16')\n",
    "  return audio16, label\n",
    "\n",
    "def cast_and_pad(sample_dict):\n",
    "  audio = sample_dict['audio']\n",
    "  label = sample_dict['label']\n",
    "  paddings = [[0, 16000-tf.shape(audio)[0]]]\n",
    "  audio = tf.pad(audio, paddings)\n",
    "  audio16 = tf.cast(audio, 'int16')\n",
    "  return audio16, label\n",
    "\n",
    "def convert_dataset(item):\n",
    "  \"\"\"Puts the mnist dataset in the format Keras expects, (features, labels).\"\"\"\n",
    "  audio = item['audio']\n",
    "  label = item['label']\n",
    "  return audio, label\n",
    "\n",
    "\n",
    "def get_preprocess_audio_func(model_settings,is_training=False,background_data = []):\n",
    "  def prepare_processing_graph(next_element):\n",
    "    \"\"\"Builds a TensorFlow graph to apply the input distortions.\n",
    "    Creates a graph that loads a WAVE file, decodes it, scales the volume,\n",
    "    shifts it in time, adds in background noise, calculates a spectrogram, and\n",
    "    then builds an MFCC fingerprint from that.\n",
    "    This must be called with an active TensorFlow session running, and it\n",
    "    creates multiple placeholder inputs, and one output:\n",
    "      - wav_filename_placeholder_: Filename of the WAV to load.\n",
    "      - foreground_volume_placeholder_: How loud the main clip should be.\n",
    "      - time_shift_padding_placeholder_: Where to pad the clip.\n",
    "      - time_shift_offset_placeholder_: How much to move the clip in time.\n",
    "      - background_data_placeholder_: PCM sample data for background noise.\n",
    "      - background_volume_placeholder_: Loudness of mixed-in background.\n",
    "      - mfcc_: Output 2D fingerprint of processed audio.\n",
    "    Args:\n",
    "      model_settings: Information about the current model being trained.\n",
    "    \"\"\"\n",
    "    desired_samples = model_settings['desired_samples']\n",
    "    background_frequency = model_settings['background_frequency']\n",
    "    background_volume_range_= model_settings['background_volume_range_']\n",
    "\n",
    "    wav_decoder = tf.cast(next_element['audio'], tf.float32)\n",
    "    if model_settings['feature_type'] != \"td_samples\":\n",
    "      wav_decoder = wav_decoder/tf.reduce_max(wav_decoder)\n",
    "    else:\n",
    "      wav_decoder = wav_decoder/tf.constant(2**15,dtype=tf.float32)\n",
    "    #Previously, decode_wav was used with desired_samples as the length of array. The\n",
    "    # default option of this function was to pad zeros if the desired samples are not found\n",
    "    wav_decoder = tf.pad(wav_decoder,[[0,desired_samples-tf.shape(wav_decoder)[-1]]]) \n",
    "    # Allow the audio sample's volume to be adjusted.\n",
    "    foreground_volume_placeholder_ = tf.constant(1,dtype=tf.float32)\n",
    "    \n",
    "    scaled_foreground = tf.multiply(wav_decoder,\n",
    "                                    foreground_volume_placeholder_)\n",
    "    # Shift the sample's start position, and pad any gaps with zeros.\n",
    "    time_shift_padding_placeholder_ = tf.constant([[2,2]], tf.int32)\n",
    "    time_shift_offset_placeholder_ = tf.constant([2],tf.int32)\n",
    "    scaled_foreground.shape\n",
    "    padded_foreground = tf.pad(scaled_foreground, time_shift_padding_placeholder_, mode='CONSTANT')\n",
    "    sliced_foreground = tf.slice(padded_foreground, time_shift_offset_placeholder_, [desired_samples])\n",
    "  \n",
    "    if is_training and background_data != []:\n",
    "      background_volume_range = tf.constant(background_volume_range_,dtype=tf.float32)\n",
    "      background_index = np.random.randint(len(background_data))\n",
    "      background_samples = background_data[background_index]\n",
    "      background_offset = np.random.randint(0, len(background_samples) - desired_samples)\n",
    "      background_clipped = background_samples[background_offset:(background_offset + desired_samples)]\n",
    "      background_clipped = tf.squeeze(background_clipped)\n",
    "      background_reshaped = tf.pad(background_clipped,[[0,desired_samples-tf.shape(wav_decoder)[-1]]])\n",
    "      background_reshaped = tf.cast(background_reshaped, tf.float32)\n",
    "      if np.random.uniform(0, 1) < background_frequency:\n",
    "        background_volume = np.random.uniform(0, background_volume_range_)\n",
    "      else:\n",
    "        background_volume = 0\n",
    "      background_volume_placeholder_ = tf.constant(background_volume,dtype=tf.float32)\n",
    "      background_data_placeholder_ = background_reshaped\n",
    "      background_mul = tf.multiply(background_data_placeholder_,\n",
    "                           background_volume_placeholder_)\n",
    "      background_add = tf.add(background_mul, sliced_foreground)\n",
    "      sliced_foreground = tf.clip_by_value(background_add, -1.0, 1.0)\n",
    "    \n",
    "    if model_settings['feature_type'] == 'mfcc':\n",
    "      stfts = tf.signal.stft(sliced_foreground, frame_length=model_settings['window_size_samples'], \n",
    "                         frame_step=model_settings['window_stride_samples'], fft_length=None,\n",
    "                         window_fn=tf.signal.hann_window\n",
    "                         )\n",
    "      spectrograms = tf.abs(stfts)\n",
    "      num_spectrogram_bins = stfts.shape[-1]\n",
    "      # default values used by contrib_audio.mfcc as shown here\n",
    "      # https://kite.com/python/docs/tensorflow.contrib.slim.rev_block_lib.contrib_framework_ops.audio_ops.mfcc\n",
    "      lower_edge_hertz, upper_edge_hertz, num_mel_bins = 20.0, 4000.0, 40 \n",
    "      linear_to_mel_weight_matrix = tf.signal.linear_to_mel_weight_matrix( num_mel_bins, num_spectrogram_bins,\n",
    "                                                                           model_settings['sample_rate'],\n",
    "                                                                           lower_edge_hertz, upper_edge_hertz)\n",
    "      mel_spectrograms = tf.tensordot(spectrograms, linear_to_mel_weight_matrix, 1)\n",
    "      mel_spectrograms.set_shape(spectrograms.shape[:-1].concatenate(linear_to_mel_weight_matrix.shape[-1:]))\n",
    "      # Compute a stabilized log to get log-magnitude mel-scale spectrograms.\n",
    "      log_mel_spectrograms = tf.math.log(mel_spectrograms + 1e-6)\n",
    "      # Compute MFCCs from log_mel_spectrograms and take the first 13.\n",
    "      mfccs = tf.signal.mfccs_from_log_mel_spectrograms(log_mel_spectrograms)[..., :model_settings['dct_coefficient_count']]\n",
    "      mfccs = tf.reshape(mfccs,[model_settings['spectrogram_length'], model_settings['dct_coefficient_count'], 1])\n",
    "      next_element['audio'] = mfccs\n",
    "      #next_element['label'] = tf.one_hot(next_element['label'],12)\n",
    "\n",
    "    elif model_settings['feature_type'] == 'lfbe':\n",
    "      # apply preemphasis\n",
    "      preemphasis_coef = 1 - 2 ** -5\n",
    "      power_offset = 52\n",
    "      num_mel_bins = model_settings['dct_coefficient_count']\n",
    "      paddings = tf.constant([[0, 0], [1, 0]])\n",
    "      # for some reason, tf.pad only works with the extra batch dimension, but then we remove it after pad\n",
    "      sliced_foreground = tf.expand_dims(sliced_foreground, 0)\n",
    "      sliced_foreground = tf.pad(tensor=sliced_foreground, paddings=paddings, mode='CONSTANT')\n",
    "      sliced_foreground = sliced_foreground[:, 1:] - preemphasis_coef * sliced_foreground[:, :-1]\n",
    "      sliced_foreground = tf.squeeze(sliced_foreground) \n",
    "      # compute fft\n",
    "      stfts = tf.signal.stft(sliced_foreground,  frame_length=model_settings['window_size_samples'], \n",
    "                             frame_step=model_settings['window_stride_samples'], fft_length=None,\n",
    "                             window_fn=functools.partial(\n",
    "                               tf.signal.hamming_window, periodic=False),\n",
    "                             pad_end=False,\n",
    "                             name='STFT')\n",
    "    \n",
    "      # compute magnitude spectrum [batch_size, num_frames, NFFT]\n",
    "      magspec = tf.abs(stfts)\n",
    "      num_spectrogram_bins = magspec.shape[-1]\n",
    "    \n",
    "      # compute power spectrum [num_frames, NFFT]\n",
    "      powspec = (1 / model_settings['window_size_samples']) * tf.square(magspec)\n",
    "      powspec_max = tf.reduce_max(input_tensor=powspec)\n",
    "      powspec = tf.clip_by_value(powspec, 1e-30, powspec_max) # prevent -infinity on log\n",
    "    \n",
    "      def log10(x):\n",
    "        # Compute log base 10 on the tensorflow graph.\n",
    "        # x is a tensor.  returns log10(x) as a tensor\n",
    "        numerator = tf.math.log(x)\n",
    "        denominator = tf.math.log(tf.constant(10, dtype=numerator.dtype))\n",
    "        return numerator / denominator\n",
    "    \n",
    "      # Warp the linear-scale, magnitude spectrograms into the mel-scale.\n",
    "      lower_edge_hertz, upper_edge_hertz = 0.0, model_settings['sample_rate'] / 2.0\n",
    "      linear_to_mel_weight_matrix = (\n",
    "          tf.signal.linear_to_mel_weight_matrix(\n",
    "              num_mel_bins=num_mel_bins,\n",
    "              num_spectrogram_bins=num_spectrogram_bins,\n",
    "              sample_rate=model_settings['sample_rate'],\n",
    "              lower_edge_hertz=lower_edge_hertz,\n",
    "              upper_edge_hertz=upper_edge_hertz))\n",
    "\n",
    "      mel_spectrograms = tf.tensordot(powspec, linear_to_mel_weight_matrix,1)\n",
    "      mel_spectrograms.set_shape(magspec.shape[:-1].concatenate(\n",
    "          linear_to_mel_weight_matrix.shape[-1:]))\n",
    "\n",
    "      log_mel_spec = 10 * log10(mel_spectrograms)\n",
    "      log_mel_spec = tf.expand_dims(log_mel_spec, -1, name=\"mel_spec\")\n",
    "    \n",
    "      log_mel_spec = (log_mel_spec + power_offset - 32 + 32.0) / 64.0\n",
    "      log_mel_spec = tf.clip_by_value(log_mel_spec, 0, 1)\n",
    "\n",
    "      next_element['audio'] = log_mel_spec\n",
    "\n",
    "    elif model_settings['feature_type'] == 'td_samples':\n",
    "      ## sliced_foreground should have the right data.  Make sure it's the right format (int16)\n",
    "      # and just return it.\n",
    "      paddings = [[0, 16000-tf.shape(sliced_foreground)[0]]]\n",
    "      wav_padded = tf.pad(sliced_foreground, paddings)\n",
    "      wav_padded = tf.expand_dims(wav_padded, -1)\n",
    "      wav_padded = tf.expand_dims(wav_padded, -1)\n",
    "      next_element['audio'] = wav_padded\n",
    "      \n",
    "    return next_element\n",
    "  \n",
    "  return prepare_processing_graph\n",
    "\n",
    "\n",
    "def prepare_background_data(bg_path,BACKGROUND_NOISE_DIR_NAME):\n",
    "  \"\"\"Searches a folder for background noise audio, and loads it into memory.\n",
    "  It's expected that the background audio samples will be in a subdirectory\n",
    "  named '_background_noise_' inside the 'data_dir' folder, as .wavs that match\n",
    "  the sample rate of the training data, but can be much longer in duration.\n",
    "  If the '_background_noise_' folder doesn't exist at all, this isn't an\n",
    "  error, it's just taken to mean that no background noise augmentation should\n",
    "  be used. If the folder does exist, but it's empty, that's treated as an\n",
    "  error.\n",
    "  Returns:\n",
    "    List of raw PCM-encoded audio samples of background noise.\n",
    "  Raises:\n",
    "    Exception: If files aren't found in the folder.\n",
    "  \"\"\"\n",
    "  background_data = []\n",
    "  background_dir = os.path.join(bg_path, BACKGROUND_NOISE_DIR_NAME)\n",
    "  if not os.path.exists(background_dir):\n",
    "    return background_data\n",
    "  #with tf.Session(graph=tf.Graph()) as sess:\n",
    "  #    wav_filename_placeholder = tf.placeholder(tf.string, [])\n",
    "  #    wav_loader = io_ops.read_file(wav_filename_placeholder)\n",
    "  #    wav_decoder = contrib_audio.decode_wav(wav_loader, desired_channels=1)\n",
    "  search_path = os.path.join(bg_path, BACKGROUND_NOISE_DIR_NAME,'*.wav')\n",
    "  #for wav_path in gfile.Glob(search_path):\n",
    "  #    wav_data = sess.run(wav_decoder, feed_dict={wav_filename_placeholder: wav_path}).audio.flatten()\n",
    "  #    self.background_data.append(wav_data)\n",
    "  for wav_path in gfile.Glob(search_path):\n",
    "    #audio = tfio.audio.AudioIOTensor(wav_path)\n",
    "    raw_audio = tf.io.read_file(wav_path)\n",
    "    audio = tf.audio.decode_wav(raw_audio)\n",
    "    background_data.append(audio[0])\n",
    "  if not background_data:\n",
    "    raise Exception('No background wav files were found in ' + search_path)\n",
    "  return background_data\n",
    "\n"
   ]
  },
  {
   "cell_type": "markdown",
   "id": "330b4f73-69c0-40a0-b9a4-fb67cadb0c38",
   "metadata": {},
   "source": [
    "## Process Files into TF Dataset"
   ]
  },
  {
   "cell_type": "code",
   "execution_count": 4,
   "id": "7ae79cbe-d3e8-40ca-92fa-d185a88be2bf",
   "metadata": {},
   "outputs": [],
   "source": [
    "def decode_audio(audio_binary):\n",
    "  # Decode WAV-encoded audio files to `float32` tensors, normalized\n",
    "  # to the [-1.0, 1.0] range. Return `float32` audio and a sample rate.\n",
    "  audio, _ = tf.audio.decode_wav(contents=audio_binary)\n",
    "  # Since all the data is single channel (mono), drop the `channels`\n",
    "  # axis from the array.\n",
    "  return tf.squeeze(audio, axis=-1)\n",
    "  \n",
    "def get_label(file_path):\n",
    "  parts = tf.strings.split(\n",
    "      input=file_path,\n",
    "      sep=os.path.sep)\n",
    "  # Note: You'll use indexing here instead of tuple unpacking to enable this\n",
    "  # to work in a TensorFlow graph.\n",
    "  return parts[-2]\n",
    "\n",
    "def get_waveform_and_label(file_path):\n",
    "  label = get_label(file_path)\n",
    "  audio_binary = tf.io.read_file(file_path)\n",
    "  waveform = decode_audio(audio_binary)\n",
    "  return {'audio':waveform, 'label':label}"
   ]
  },
  {
   "cell_type": "code",
   "execution_count": 5,
   "id": "9c7e9acc-ef62-4da2-a7a0-00ef04751175",
   "metadata": {},
   "outputs": [],
   "source": [
    "def convert_labels_str2int(datum):\n",
    "  \"\"\"\n",
    "  datum is {'audio':<audio>, 'label':<label_as_string>} \n",
    "  returns {'audio':<audio>, 'label':<label_as_int>}\n",
    "  according to:\n",
    "        keys=tf.constant([\"marvin\", \"_silence\", \"_unknown\"]),\n",
    "        values=tf.constant([0, 1, 2]),\n",
    "  \"\"\"\n",
    "  # build a lookup table\n",
    "  label_map = tf.lookup.StaticHashTable(\n",
    "      initializer=tf.lookup.KeyValueTensorInitializer(\n",
    "          keys=tf.constant([\"marvin\", \"_silence\", \"_unknown\"]),\n",
    "          values=tf.constant([0, 1, 2]),\n",
    "      ),\n",
    "      default_value=tf.constant(2), # map other labels to _unknown\n",
    "      name=\"class_labels\"\n",
    "  )\n",
    "  \n",
    "  return {'audio': datum['audio'], \n",
    "          'label':label_map.lookup(datum['label'])\n",
    "         }\n",
    "  "
   ]
  },
  {
   "cell_type": "code",
   "execution_count": 6,
   "id": "41946909-2cf3-4687-8899-126899f42a32",
   "metadata": {},
   "outputs": [],
   "source": [
    "def is_batched(ds):\n",
    "    ## This feels wrong/not robust, but I can't find a better way\n",
    "    try:\n",
    "        ds.unbatch()  # does not actually change ds. For that we would ds=ds.unbatch()\n",
    "    except:\n",
    "        return False # we'll assume that the error on unbatching is because the ds is not batched.\n",
    "    else:\n",
    "        return True  # if we were able to unbatch it then it must have been batched (??)"
   ]
  },
  {
   "cell_type": "code",
   "execution_count": 7,
   "id": "b35f5b7d-a90e-473a-bfc2-484953a57b68",
   "metadata": {},
   "outputs": [],
   "source": [
    "def count_labels(ds, label_index=1):\n",
    "  \"\"\"\n",
    "  returns a dictionary with each found unique label as key and\n",
    "  the number of samples with that label as value.\n",
    "  label_index: key to index the label from each item in the dataset.\n",
    "  if each item is a tuple/list, label_index should be an integer\n",
    "  if each item is a dict, label_index should be the key.\n",
    "  \"\"\"\n",
    "  if is_batched(ds):\n",
    "    ds = ds.unbatch()\n",
    "  \n",
    "  label_counts = {}\n",
    "  for dat in ds:\n",
    "    new_label = dat[label_index].numpy()\n",
    "    if new_label in label_counts:\n",
    "      label_counts[new_label] += 1\n",
    "    else:\n",
    "      label_counts[new_label] = 1\n",
    "  return label_counts"
   ]
  },
  {
   "cell_type": "markdown",
   "id": "7cad0441-25e8-4167-b9b1-4a792da509f6",
   "metadata": {},
   "source": [
    "## Done definining functions\n"
   ]
  },
  {
   "cell_type": "code",
   "execution_count": 8,
   "id": "c0df306e-432a-4f12-a73a-cc945341dd40",
   "metadata": {},
   "outputs": [],
   "source": [
    "Flags, unparsed = util.parse_command()"
   ]
  },
  {
   "cell_type": "code",
   "execution_count": 9,
   "id": "7b889317-b130-4b06-97a6-93713873e60b",
   "metadata": {},
   "outputs": [
    {
     "name": "stderr",
     "output_type": "stream",
     "text": [
      "2024-01-29 17:20:45.513105: I metal_plugin/src/device/metal_device.cc:1154] Metal device set to: Apple M1\n",
      "2024-01-29 17:20:45.513128: I metal_plugin/src/device/metal_device.cc:296] systemMemory: 16.00 GB\n",
      "2024-01-29 17:20:45.513131: I metal_plugin/src/device/metal_device.cc:313] maxCacheSize: 5.33 GB\n",
      "2024-01-29 17:20:45.513157: I tensorflow/core/common_runtime/pluggable_device/pluggable_device_factory.cc:306] Could not identify NUMA node of platform GPU ID 0, defaulting to 0. Your kernel may not have been built with NUMA support.\n",
      "2024-01-29 17:20:45.513172: I tensorflow/core/common_runtime/pluggable_device/pluggable_device_factory.cc:272] Created TensorFlow device (/job:localhost/replica:0/task:0/device:GPU:0 with 0 MB memory) -> physical PluggableDevice (device: 0, name: METAL, pci bus id: <undefined>)\n"
     ]
    }
   ],
   "source": [
    "# Flags.num_train_samples = 50\n",
    "# Flags.num_val_samples = 50\n",
    "# Flags.num_test_samples = 50\n",
    "\n",
    "Flags.data_dir = os.path.join(os.getenv('HOME'), 'data', 'speech_commands_files_0.2')\n",
    "Flags.bg_path = Flags.data_dir\n",
    "\n",
    "val_cal_subset=False\n",
    "get_waves = False\n",
    "\n",
    "BACKGROUND_NOISE_DIR_NAME='_background_noise_' \n",
    "background_data = prepare_background_data(Flags.bg_path,BACKGROUND_NOISE_DIR_NAME)\n",
    "\n"
   ]
  },
  {
   "cell_type": "code",
   "execution_count": 10,
   "id": "82a182fc-e9bf-4e03-a793-01d94561a370",
   "metadata": {},
   "outputs": [],
   "source": [
    "# ds_train, ds_test, ds_val = get_training_data(Flags)\n",
    "\n",
    "label_count=3\n",
    "background_frequency = Flags.background_frequency\n",
    "background_volume_range_= Flags.background_volume\n",
    "model_settings = models.prepare_model_settings(label_count, Flags)"
   ]
  },
  {
   "cell_type": "code",
   "execution_count": 11,
   "id": "11dcac38-325e-4681-b021-41b4f7b6f45b",
   "metadata": {},
   "outputs": [],
   "source": [
    "\n",
    "## Code for loading data from pre-built dataset.  We're loading from files,\n",
    "## because we need the 'marvin' keyword\n",
    "# splits = ['train', 'test', 'validation']\n",
    "# (ds_train, ds_test, ds_val), ds_info = tfds.load('speech_commands:0.0.2', split=splits, \n",
    "#                                               data_dir=Flags.data_dir, with_info=True)\n",
    "## class 10 = background noise\n",
    "## class 11 = 'other words'"
   ]
  },
  {
   "cell_type": "code",
   "execution_count": 12,
   "id": "8cfa5d9b-f0b2-4a0e-b14c-1c98e6bdeb92",
   "metadata": {},
   "outputs": [],
   "source": [
    "# max_count = 5\n",
    "# count = 0\n",
    "# for dat in ds_train:\n",
    "#   # print(dat['label'])\n",
    "#   if dat['label'].numpy() == 10: \n",
    "#     count += 1\n",
    "#     display.display(display.Audio(dat['audio'].numpy(), rate=16000))\n",
    "#     if count >= max_count:\n",
    "#       break\n",
    "# # display.display(display.Audio(dat['audio'].numpy(), rate=16000))"
   ]
  },
  {
   "cell_type": "markdown",
   "id": "bfbfcbfa-6eb9-482d-9cf4-2d85da5e3457",
   "metadata": {},
   "source": [
    "#### Build Dataset from Files\n",
    "Right here is where we should build a dataset from files.\n",
    "each dataset element should be {'audio':<waveform>, 'label':<integer_label>}"
   ]
  },
  {
   "cell_type": "code",
   "execution_count": 13,
   "id": "8bad90a4-595c-4a28-8c60-d447eb409bad",
   "metadata": {},
   "outputs": [],
   "source": [
    "data_dir = Flags.data_dir"
   ]
  },
  {
   "cell_type": "code",
   "execution_count": 14,
   "id": "de234fbb-c72e-4831-b90f-956451b25211",
   "metadata": {},
   "outputs": [],
   "source": [
    "import glob\n",
    "filenames = glob.glob(os.path.join(str(data_dir), '*', '*.wav'))"
   ]
  },
  {
   "cell_type": "code",
   "execution_count": 15,
   "id": "b8b2a9dc-3d73-41f7-8fb0-2ebeb85b169d",
   "metadata": {},
   "outputs": [],
   "source": [
    "# the full speech-commands set lists which files are to be used\n",
    "# as test and validation data; train with everything else\n",
    "data_dir = Flags.data_dir\n",
    "fname_val_files = os.path.join(data_dir, 'validation_list.txt')    \n",
    "with open(fname_val_files) as fpi_val:\n",
    "  val_files = fpi_val.read().splitlines()\n",
    "# validation_list.txt only lists partial paths, append to data_dir and sr\n",
    "val_files = [os.path.join(data_dir, fn).rstrip() for fn in val_files]\n",
    "\n",
    "# repeat for test files\n",
    "fname_test_files = os.path.join(data_dir, 'testing_list.txt')\n",
    "with open(fname_test_files) as fpi_tst:\n",
    "  test_files = fpi_tst.read().splitlines()  \n",
    "test_files = [os.path.join(data_dir, fn).rstrip() for fn in test_files]    \n",
    "  \n",
    "if os.sep != '/': \n",
    "  # the files validation_list.txt and testing_list.txt use '/' as path separator\n",
    "  # if we're on a windows machine, replace the '/' with the correct separator\n",
    "  val_files = [fn.replace('/', os.sep) for fn in val_files]\n",
    "  test_files = [fn.replace('/', os.sep) for fn in test_files]"
   ]
  },
  {
   "cell_type": "code",
   "execution_count": 16,
   "id": "64906d26-aa0b-4531-bc18-a331e74ee2d2",
   "metadata": {},
   "outputs": [],
   "source": [
    "AUTOTUNE = tf.data.AUTOTUNE\n",
    "\n",
    "# don't train with the _background_noise_ files; exclude when directory name starts with '_'\n",
    "train_files = [f for f in filenames if f.split(os.sep)[-2][0] != '_']\n",
    "# validation and test files are listed explicitly in *_list.txt; train with everything else\n",
    "train_files = list(set(train_files) - set(test_files) - set(val_files))\n",
    "# now convert into a TF tensor so we can use the tf.dataset pipeline\n",
    "train_files = tf.constant(train_files)\n",
    "\n",
    "\n",
    "ds_train = tf.data.Dataset.from_tensor_slices(train_files)\n",
    "ds_train = ds_train.map(get_waveform_and_label, num_parallel_calls=AUTOTUNE)\n",
    "ds_train = ds_train.map(convert_labels_str2int)\n",
    "\n",
    "ds_val = tf.data.Dataset.from_tensor_slices(val_files)\n",
    "ds_val = ds_val.map(get_waveform_and_label, num_parallel_calls=AUTOTUNE)\n",
    "ds_val = ds_val.map(convert_labels_str2int)\n",
    "\n",
    "ds_test = tf.data.Dataset.from_tensor_slices(test_files)\n",
    "ds_test = ds_test.map(get_waveform_and_label, num_parallel_calls=AUTOTUNE)\n",
    "ds_test = ds_test.map(convert_labels_str2int)"
   ]
  },
  {
   "cell_type": "code",
   "execution_count": 17,
   "id": "507e7e36-e103-487a-b276-16c7ac17b5ec",
   "metadata": {},
   "outputs": [
    {
     "name": "stdout",
     "output_type": "stream",
     "text": [
      "One element from the training set:\n",
      "Input tensor shape: (16000,)\n",
      "Label = 2; shape = ()\n"
     ]
    }
   ],
   "source": [
    "print(\"One element from the training set:\")\n",
    "for dat in ds_train.take(1):\n",
    "  input_shape = dat['audio'].shape # we'll also need this to build the silent dataset\n",
    "  print(f\"Input tensor shape: {input_shape}\")  \n",
    "  print(f\"Label = {dat['label']}; shape = {dat['label'].shape}\")\n",
    "  break\n",
    "example_wav = dat['audio']"
   ]
  },
  {
   "cell_type": "code",
   "execution_count": 18,
   "id": "6fca4702-66d0-41bc-9ab7-7adb70e65685",
   "metadata": {},
   "outputs": [],
   "source": [
    "# create a few copies of only the target words to balance the distribution\n",
    "# create a tmp dataset with only the target words\n",
    "ds_only_target = ds_train.filter(lambda dat: dat['label'] == 0)"
   ]
  },
  {
   "cell_type": "code",
   "execution_count": 19,
   "id": "ad2d5894-741d-4deb-9825-390d64ac31be",
   "metadata": {},
   "outputs": [],
   "source": [
    "# print(\"Five elements from the only-target set:\")\n",
    "# for dat in ds_only_target.take(5):\n",
    "#   print(f\"Input tensor shape: {dat['audio'].shape}\")  \n",
    "#   print(f\"Label = {dat['label']}; shape = {dat['label'].shape}\")\n"
   ]
  },
  {
   "cell_type": "code",
   "execution_count": 20,
   "id": "c21dd032-85e4-4e57-ac3a-f55011b9a2f9",
   "metadata": {},
   "outputs": [],
   "source": [
    "# # different way to build the silent dataset\n",
    "# rand_waves = rng.normal(loc=0.0, scale=0.3, size=(num_silent,)+tuple(input_shape))\n",
    "# silent_index = 1\n",
    "# silent_wave_ds = tf.data.Dataset.from_tensor_slices(rand_waves)\n",
    "# silent_wave_ds = silent_wave_ds.map(lambda x: {'audio':x,'label':1})\n",
    "# silent_wave_ds = silent_wave_ds.map(lambda dd: {'audio':dd['audio'],'label':dd['label']})\n"
   ]
  },
  {
   "cell_type": "code",
   "execution_count": 21,
   "id": "0ea69b0d-2d82-4623-8b4b-d4fc8c493d2b",
   "metadata": {},
   "outputs": [],
   "source": [
    "reps_of_known = 5\n",
    "num_silent = 10000\n",
    "\n",
    "for _ in range(reps_of_known):\n",
    "   ds_train = ds_train.concatenate(ds_only_target)\n",
    "\n",
    "if num_silent > 0:\n",
    "  rand_waves = rng.normal(loc=0.0, scale=0.3, size=(num_silent,)+tuple(input_shape))\n",
    "  silent_index = 1\n",
    "  silent_labels = silent_index * np.ones(num_silent)\n",
    "  silent_wave_ds = tf.data.Dataset.from_tensor_slices({'audio':rand_waves, 'label':silent_labels})\n",
    "  silent_wave_ds = silent_wave_ds.map(lambda dd: {\n",
    "    'audio':tf.cast(dd['audio'], 'float32')  ,\n",
    "    'label':tf.cast(dd['label'], 'int32')\n",
    "  })\n",
    "  ds_train = ds_train.concatenate(silent_wave_ds)"
   ]
  },
  {
   "cell_type": "code",
   "execution_count": null,
   "id": "7c1c78fc-8123-4fe8-b4b4-ec4f3127b34d",
   "metadata": {},
   "outputs": [],
   "source": []
  },
  {
   "cell_type": "code",
   "execution_count": 22,
   "id": "96affd54-8afb-4ff7-852c-ad524afb6f2f",
   "metadata": {},
   "outputs": [],
   "source": [
    "if Flags.num_train_samples != -1:\n",
    "  ds_train = ds_train.take(Flags.num_train_samples)\n",
    "if Flags.num_val_samples != -1:\n",
    "  ds_val = ds_val.take(Flags.num_val_samples)\n",
    "if Flags.num_test_samples != -1:\n",
    "  ds_test = ds_test.take(Flags.num_test_samples)"
   ]
  },
  {
   "cell_type": "code",
   "execution_count": 23,
   "id": "694a3bb9-2566-4562-b249-d671927017d3",
   "metadata": {},
   "outputs": [],
   "source": [
    "if get_waves:\n",
    "  ds_train = ds_train.map(cast_and_pad)\n",
    "  ds_test  =  ds_test.map(cast_and_pad)\n",
    "  ds_val   =   ds_val.map(cast_and_pad)\n",
    "else:\n",
    "  # extract spectral features and add background noise\n",
    "  ds_train = ds_train.map(get_preprocess_audio_func(model_settings,is_training=True,\n",
    "                                                    background_data=background_data),\n",
    "                          num_parallel_calls=tf.data.experimental.AUTOTUNE)\n",
    "  ds_test  =  ds_test.map(get_preprocess_audio_func(model_settings,is_training=False,\n",
    "                                                    background_data=background_data),\n",
    "                          num_parallel_calls=tf.data.experimental.AUTOTUNE)\n",
    "  ds_val   =   ds_val.map(get_preprocess_audio_func(model_settings,is_training=False,\n",
    "                                                    background_data=background_data),\n",
    "                          num_parallel_calls=tf.data.experimental.AUTOTUNE)\n",
    "  # change output from a dictionary to a feature,label tuple\n",
    "  ds_train = ds_train.map(convert_dataset)\n",
    "  ds_test = ds_test.map(convert_dataset)\n",
    "  ds_val = ds_val.map(convert_dataset)\n",
    "\n",
    "# Now that we've acquired the preprocessed data, either by processing or loading,\n",
    "ds_train = ds_train.batch(Flags.batch_size)\n",
    "ds_test = ds_test.batch(Flags.batch_size)  \n",
    "ds_val = ds_val.batch(Flags.batch_size)"
   ]
  },
  {
   "cell_type": "code",
   "execution_count": 24,
   "id": "7760335b-0232-41b5-b5f1-272d9c6d5a55",
   "metadata": {},
   "outputs": [
    {
     "name": "stdout",
     "output_type": "stream",
     "text": [
      "One element from the training set has shape:\n",
      "Input tensor shape: (49, 40, 1)\n",
      "Label shape: ()\n",
      "Label : 2\n"
     ]
    }
   ],
   "source": [
    "for dat in ds_train.unbatch().take(1):\n",
    "  print(\"One element from the training set has shape:\")\n",
    "  print(f\"Input tensor shape: {dat[0].shape}\")\n",
    "  print(f\"Label shape: {dat[1].shape}\")\n",
    "  print(f\"Label : {dat[1]}\")\n",
    "  break\n",
    "\n"
   ]
  },
  {
   "cell_type": "code",
   "execution_count": 25,
   "id": "791000c5-750d-4235-a27c-448b98c82c69",
   "metadata": {},
   "outputs": [
    {
     "data": {
      "image/png": "[encoded data removed]",
      "text/plain": [
       "<Figure size 640x480 with 5 Axes>"
      ]
     },
     "metadata": {},
     "output_type": "display_data"
    }
   ],
   "source": [
    "max_target_examples = 5\n",
    "target_count = 0\n",
    "target = tf.constant(0)\n",
    "\n",
    "for dat in ds_train.unbatch():\n",
    "  # label_string = dat[1].numpy().decode('utf8')\n",
    "  if dat[1] == target:\n",
    "    target_count += 1\n",
    "    plt.subplot(1,max_target_examples, target_count)\n",
    "    # display.display(display.Audio(dat[0].numpy(), rate=16000))\n",
    "    plt.imshow(dat[0].numpy())\n",
    "    # try this:\n",
    "    # height = log_spec.shape[0]\n",
    "    # width = log_spec.shape[1]\n",
    "    # X = np.linspace(0, np.size(spectrogram), num=width, dtype=int)\n",
    "    # Y = range(height)\n",
    "    # ax.pcolormesh(X, Y, log_spec)\n",
    "    if target_count >= max_target_examples:\n",
    "      break"
   ]
  },
  {
   "cell_type": "code",
   "execution_count": 38,
   "id": "6fafe720-6a04-4ac0-bf45-8bd8456b5f55",
   "metadata": {},
   "outputs": [],
   "source": [
    "## look at the label breakdown in the training set\n",
    "# print(count_labels(ds_train))\n",
    "\n",
    "## current count_labels is very slow.  some scratch code here towards\n",
    "## implementing a faster one by converting labels to one-hot and then summing.\n",
    "# tf.one_hot(indices, depth)\n",
    "# ds_1hot = ds_train.map(lambda dat: tf.one_hot(dat[1], 3))\n",
    "# xx = iter(ds_1hot).next()\n"
   ]
  },
  {
   "cell_type": "markdown",
   "id": "f2f9bd7e-5a64-40d0-b237-243035fc5fe8",
   "metadata": {},
   "source": [
    "## Build and Train Model"
   ]
  },
  {
   "cell_type": "code",
   "execution_count": 43,
   "id": "852f74e7-a735-40d1-a951-b2455030467c",
   "metadata": {},
   "outputs": [
    {
     "data": {
      "text/plain": [
       "<module 'keras_model' from '/Users/jeremy/dev/tiny_mlperf/tiny_main/benchmark/training/streaming_wakeword/keras_model.py'>"
      ]
     },
     "execution_count": 43,
     "metadata": {},
     "output_type": "execute_result"
    }
   ],
   "source": [
    "import importlib\n",
    "importlib.reload(models)"
   ]
  },
  {
   "cell_type": "code",
   "execution_count": 44,
   "id": "40d88172-df6d-422b-a9ec-a47da6958ec6",
   "metadata": {},
   "outputs": [
    {
     "name": "stdout",
     "output_type": "stream",
     "text": [
      "DS TCN model for streaming invoked\n",
      "Apple Silicon platform detected. Using legacy adam as standard Keras Adam is slow on this processor.\n"
     ]
    }
   ],
   "source": [
    "model = models.get_model(args=Flags)\n"
   ]
  },
  {
   "cell_type": "code",
   "execution_count": null,
   "id": "5f6a2357-008b-4740-8cce-30a9456d3212",
   "metadata": {},
   "outputs": [],
   "source": []
  },
  {
   "cell_type": "code",
   "execution_count": 45,
   "id": "fa6d1855-1cc3-4487-a694-525f3349389f",
   "metadata": {},
   "outputs": [
    {
     "name": "stdout",
     "output_type": "stream",
     "text": [
      "Model: \"model_3\"\n",
      "_________________________________________________________________\n",
      " Layer (type)                Output Shape              Param #   \n",
      "=================================================================\n",
      " input_4 (InputLayer)        [(None, 49, 40)]          0         \n",
      "                                                                 \n",
      " tf.expand_dims_3 (TFOpLamb  (None, 49, 1, 40)         0         \n",
      " da)                                                             \n",
      "                                                                 \n",
      " depthwise_conv2d_15 (Depth  (None, 45, 1, 40)         200       \n",
      " wiseConv2D)                                                     \n",
      "                                                                 \n",
      " conv2d_15 (Conv2D)          (None, 45, 1, 128)        5120      \n",
      "                                                                 \n",
      " batch_normalization_15 (Ba  (None, 45, 1, 128)        512       \n",
      " tchNormalization)                                               \n",
      "                                                                 \n",
      " activation_15 (Activation)  (None, 45, 1, 128)        0         \n",
      "                                                                 \n",
      " dropout_15 (Dropout)        (None, 45, 1, 128)        0         \n",
      "                                                                 \n",
      " depthwise_conv2d_16 (Depth  (None, 41, 1, 128)        640       \n",
      " wiseConv2D)                                                     \n",
      "                                                                 \n",
      " conv2d_16 (Conv2D)          (None, 41, 1, 64)         8192      \n",
      "                                                                 \n",
      " batch_normalization_16 (Ba  (None, 41, 1, 64)         256       \n",
      " tchNormalization)                                               \n",
      "                                                                 \n",
      " activation_16 (Activation)  (None, 41, 1, 64)         0         \n",
      "                                                                 \n",
      " dropout_16 (Dropout)        (None, 41, 1, 64)         0         \n",
      "                                                                 \n",
      " depthwise_conv2d_17 (Depth  (None, 31, 1, 64)         704       \n",
      " wiseConv2D)                                                     \n",
      "                                                                 \n",
      " conv2d_17 (Conv2D)          (None, 31, 1, 64)         4096      \n",
      "                                                                 \n",
      " batch_normalization_17 (Ba  (None, 31, 1, 64)         256       \n",
      " tchNormalization)                                               \n",
      "                                                                 \n",
      " activation_17 (Activation)  (None, 31, 1, 64)         0         \n",
      "                                                                 \n",
      " dropout_17 (Dropout)        (None, 31, 1, 64)         0         \n",
      "                                                                 \n",
      " depthwise_conv2d_18 (Depth  (None, 19, 1, 64)         832       \n",
      " wiseConv2D)                                                     \n",
      "                                                                 \n",
      " conv2d_18 (Conv2D)          (None, 19, 1, 64)         4096      \n",
      "                                                                 \n",
      " batch_normalization_18 (Ba  (None, 19, 1, 64)         256       \n",
      " tchNormalization)                                               \n",
      "                                                                 \n",
      " activation_18 (Activation)  (None, 19, 1, 64)         0         \n",
      "                                                                 \n",
      " dropout_18 (Dropout)        (None, 19, 1, 64)         0         \n",
      "                                                                 \n",
      " depthwise_conv2d_19 (Depth  (None, 5, 1, 64)          960       \n",
      " wiseConv2D)                                                     \n",
      "                                                                 \n",
      " conv2d_19 (Conv2D)          (None, 5, 1, 128)         8192      \n",
      "                                                                 \n",
      " batch_normalization_19 (Ba  (None, 5, 1, 128)         512       \n",
      " tchNormalization)                                               \n",
      "                                                                 \n",
      " activation_19 (Activation)  (None, 5, 1, 128)         0         \n",
      "                                                                 \n",
      " dropout_19 (Dropout)        (None, 5, 1, 128)         0         \n",
      "                                                                 \n",
      " global_average_pooling2d_3  (None, 128)               0         \n",
      "  (GlobalAveragePooling2D)                                       \n",
      "                                                                 \n",
      " flatten_3 (Flatten)         (None, 128)               0         \n",
      "                                                                 \n",
      " dense_3 (Dense)             (None, 3)                 387       \n",
      "                                                                 \n",
      "=================================================================\n",
      "Total params: 35211 (137.54 KB)\n",
      "Trainable params: 34315 (134.04 KB)\n",
      "Non-trainable params: 896 (3.50 KB)\n",
      "_________________________________________________________________\n"
     ]
    }
   ],
   "source": [
    "model.summary()\n"
   ]
  },
  {
   "cell_type": "code",
   "execution_count": null,
   "id": "e3aef319-41a6-4879-a078-d751d81aa1f3",
   "metadata": {},
   "outputs": [],
   "source": []
  },
  {
   "cell_type": "code",
   "execution_count": 46,
   "id": "1fae82dd-3138-45b0-82d9-51a53b617b24",
   "metadata": {},
   "outputs": [
    {
     "name": "stdout",
     "output_type": "stream",
     "text": [
      "\n",
      "Epoch 1: LearningRateScheduler setting learning rate to 0.0005.\n",
      "Epoch 1/4\n"
     ]
    },
    {
     "name": "stderr",
     "output_type": "stream",
     "text": [
      "2024-01-29 17:31:10.692952: I tensorflow/core/grappler/optimizers/custom_graph_optimizer_registry.cc:117] Plugin optimizer for device_type GPU is enabled.\n"
     ]
    },
    {
     "name": "stdout",
     "output_type": "stream",
     "text": [
      "   1034/Unknown - 67s 62ms/step - loss: 0.7700 - sparse_categorical_accuracy: 0.8439"
     ]
    },
    {
     "name": "stderr",
     "output_type": "stream",
     "text": [
      "2024-01-29 17:32:17.293723: I tensorflow/core/framework/local_rendezvous.cc:421] Local rendezvous recv item cancelled. Key hash: 12509136778435538396\n",
      "2024-01-29 17:32:17.294232: I tensorflow/core/framework/local_rendezvous.cc:421] Local rendezvous recv item cancelled. Key hash: 1006570421734641727\n",
      "2024-01-29 17:32:17.294241: I tensorflow/core/framework/local_rendezvous.cc:421] Local rendezvous recv item cancelled. Key hash: 18337067347112413030\n",
      "2024-01-29 17:32:17.294244: I tensorflow/core/framework/local_rendezvous.cc:421] Local rendezvous recv item cancelled. Key hash: 1912560619446462597\n",
      "2024-01-29 17:32:17.294247: I tensorflow/core/framework/local_rendezvous.cc:421] Local rendezvous recv item cancelled. Key hash: 1316274610066593109\n",
      "2024-01-29 17:32:17.294252: I tensorflow/core/framework/local_rendezvous.cc:421] Local rendezvous recv item cancelled. Key hash: 9631842467036628345\n",
      "2024-01-29 17:32:17.294255: I tensorflow/core/framework/local_rendezvous.cc:421] Local rendezvous recv item cancelled. Key hash: 13780425986420129453\n"
     ]
    },
    {
     "name": "stdout",
     "output_type": "stream",
     "text": [
      "1034/1034 [==============================] - 69s 63ms/step - loss: 0.7700 - sparse_categorical_accuracy: 0.8439 - val_loss: 1.1411 - val_sparse_categorical_accuracy: 0.8102 - lr: 5.0000e-04\n",
      "\n",
      "Epoch 2: LearningRateScheduler setting learning rate to 0.0005.\n",
      "Epoch 2/4\n",
      "1034/1034 [==============================] - 64s 62ms/step - loss: 1.0880 - sparse_categorical_accuracy: 0.6345 - val_loss: 1.1320 - val_sparse_categorical_accuracy: 0.4791 - lr: 5.0000e-04\n",
      "\n",
      "Epoch 3: LearningRateScheduler setting learning rate to 0.0005.\n",
      "Epoch 3/4\n",
      "1034/1034 [==============================] - 64s 62ms/step - loss: 1.1005 - sparse_categorical_accuracy: 0.3765 - val_loss: 1.1226 - val_sparse_categorical_accuracy: 0.4974 - lr: 5.0000e-04\n",
      "\n",
      "Epoch 4: LearningRateScheduler setting learning rate to 0.0005.\n",
      "Epoch 4/4\n",
      "1034/1034 [==============================] - 64s 62ms/step - loss: 1.0992 - sparse_categorical_accuracy: 0.3783 - val_loss: 1.1196 - val_sparse_categorical_accuracy: 0.5033 - lr: 5.0000e-04\n"
     ]
    }
   ],
   "source": [
    "callbacks = util.get_callbacks(args=Flags)\n",
    "train_hist = model.fit(ds_train, validation_data=ds_val, callbacks=callbacks,\n",
    "                       epochs=4)"
   ]
  },
  {
   "cell_type": "code",
   "execution_count": 47,
   "id": "25d2f3c8-32cc-4f9e-a876-b1345f1849f9",
   "metadata": {},
   "outputs": [
    {
     "name": "stderr",
     "output_type": "stream",
     "text": [
      "/Users/jeremy/miniforge3/envs/jh_main/lib/python3.11/site-packages/keras/src/engine/training.py:3103: UserWarning: You are saving your model as an HDF5 file via `model.save()`. This file format is considered legacy. We recommend using instead the native Keras format, e.g. `model.save('my_model.keras')`.\n",
      "  saving_api.save_model(\n"
     ]
    }
   ],
   "source": [
    "model.save('streaming_ww_model_float.h5')"
   ]
  },
  {
   "cell_type": "code",
   "execution_count": null,
   "id": "38404fa1-9f9f-4c56-a22e-bfa99cdbcc1f",
   "metadata": {},
   "outputs": [],
   "source": [
    "plt.subplot(2,1,1)\n",
    "plt.semilogy(train_hist.epoch, train_hist.history['loss'], train_hist.history['val_loss'])\n",
    "plt.legend(['training', 'validation'])\n",
    "plt.ylabel('Loss')\n",
    "plt.xlabel('Epoch')\n",
    "plt.subplot(2,1,2)\n",
    "plt.plot(train_hist.epoch, train_hist.history['sparse_categorical_accuracy'], train_hist.history['val_sparse_categorical_accuracy'])\n",
    "plt.legend(['training', 'validation'])\n",
    "plt.ylabel('Accuracy')\n",
    "plt.xlabel('Epoch')\n"
   ]
  },
  {
   "cell_type": "code",
   "execution_count": null,
   "id": "a2407081-1022-4147-b6d3-d489a33f0357",
   "metadata": {},
   "outputs": [],
   "source": [
    "model_out = model.predict(ds_train)\n",
    "y_pred = np.argmax(model_out, axis=1)\n",
    "\n",
    "y_true = np.nan*np.zeros(y_pred.shape[0])\n",
    "for i,dat in enumerate(ds_train.unbatch()):\n",
    "  y_true[i] = dat[1]"
   ]
  },
  {
   "cell_type": "code",
   "execution_count": null,
   "id": "c9ae3931-42e0-403b-853c-ba43693ed488",
   "metadata": {},
   "outputs": [],
   "source": [
    "label_list = ['marvin', 'silent', 'other']"
   ]
  },
  {
   "cell_type": "code",
   "execution_count": null,
   "id": "79c02f6a-f5e0-4fe7-97be-7dc010a0d265",
   "metadata": {},
   "outputs": [],
   "source": [
    "acc = sum(y_pred == y_true) / len(y_true)\n",
    "print(f'Test set accuracy: {acc:.1%}')"
   ]
  },
  {
   "cell_type": "code",
   "execution_count": null,
   "id": "b5f33291-3f5b-4631-a384-4adb37304589",
   "metadata": {},
   "outputs": [],
   "source": [
    "\n",
    "confusion_mtx = tf.math.confusion_matrix(y_true, y_pred) \n",
    "plt.figure(figsize=(6, 6))\n",
    "sns.heatmap(confusion_mtx, xticklabels=label_list, yticklabels=label_list, \n",
    "            annot=True, fmt='g')\n",
    "plt.gca().invert_yaxis() # flip so origin is at bottom left\n",
    "plt.xlabel('Prediction')\n",
    "plt.ylabel('Label')\n",
    "plt.show()"
   ]
  },
  {
   "cell_type": "markdown",
   "id": "9419ef55-1132-425c-91b9-534bfe7679de",
   "metadata": {},
   "source": [
    "## Scratch Space\n"
   ]
  },
  {
   "cell_type": "code",
   "execution_count": null,
   "id": "0aae8b7a-7eab-4d27-8e70-5f804218068f",
   "metadata": {},
   "outputs": [],
   "source": [
    "  \n"
   ]
  },
  {
   "cell_type": "code",
   "execution_count": null,
   "id": "60cf5e8e-6004-4cfc-89ee-09225e06e9c8",
   "metadata": {},
   "outputs": [],
   "source": [
    "preproc_func = get_preprocess_audio_func(model_settings,is_training=True,\n",
    "                                         background_data=background_data)\n",
    "\n",
    "test_wav = rng.normal(size=(16000,1))\n",
    "proc_wav_dict = preproc_func({'audio':example_wav, 'label':1})\n",
    "                        "
   ]
  },
  {
   "cell_type": "code",
   "execution_count": null,
   "id": "8ea048c7-9c46-4d6f-ae0f-5a2b0771c15f",
   "metadata": {},
   "outputs": [],
   "source": [
    "# tf.squeeze\n",
    "# proc_wav_dict['audio']"
   ]
  },
  {
   "cell_type": "code",
   "execution_count": null,
   "id": "978fdeb2-d11b-4e60-a41d-3c9d7d60866c",
   "metadata": {},
   "outputs": [],
   "source": [
    "for dat in ds_only_target.take(1):\n",
    "  next_element = dat\n",
    "is_training = True\n",
    "\n",
    "\n",
    "desired_samples = model_settings['desired_samples']\n",
    "background_frequency = model_settings['background_frequency']\n",
    "background_volume_range_= model_settings['background_volume_range_']\n",
    "\n",
    "wav_decoder = tf.cast(next_element['audio'], tf.float32)\n",
    "if model_settings['feature_type'] != \"td_samples\":\n",
    "  wav_decoder = wav_decoder/tf.reduce_max(wav_decoder)\n",
    "else:\n",
    "  wav_decoder = wav_decoder/tf.constant(2**15,dtype=tf.float32)\n",
    "#Previously, decode_wav was used with desired_samples as the length of array. The\n",
    "# default option of this function was to pad zeros if the desired samples are not found\n",
    "wav_decoder = tf.pad(wav_decoder,[[0,desired_samples-tf.shape(wav_decoder)[-1]]]) \n",
    "# Allow the audio sample's volume to be adjusted.\n",
    "foreground_volume_placeholder_ = tf.constant(1,dtype=tf.float32)\n",
    "\n",
    "scaled_foreground = tf.multiply(wav_decoder,\n",
    "                                foreground_volume_placeholder_)\n",
    "# Shift the sample's start position, and pad any gaps with zeros.\n",
    "time_shift_padding_placeholder_ = tf.constant([[2,2]], tf.int32)\n",
    "time_shift_offset_placeholder_ = tf.constant([2],tf.int32)\n",
    "scaled_foreground.shape\n",
    "padded_foreground = tf.pad(scaled_foreground, time_shift_padding_placeholder_, mode='CONSTANT')\n",
    "sliced_foreground = tf.slice(padded_foreground, time_shift_offset_placeholder_, [desired_samples])\n",
    "\n",
    "if is_training and background_data != []:\n",
    "  background_volume_range = tf.constant(background_volume_range_,dtype=tf.float32)\n",
    "  background_index = np.random.randint(len(background_data))\n",
    "  background_samples = background_data[background_index]\n",
    "  background_offset = np.random.randint(0, len(background_samples) - desired_samples)\n",
    "  background_clipped = background_samples[background_offset:(background_offset + desired_samples)]\n",
    "  background_clipped = tf.squeeze(background_clipped)\n",
    "  background_reshaped = tf.pad(background_clipped,[[0,desired_samples-tf.shape(wav_decoder)[-1]]])\n",
    "  background_reshaped = tf.cast(background_reshaped, tf.float32)\n",
    "  if np.random.uniform(0, 1) < background_frequency:\n",
    "    background_volume = np.random.uniform(0, background_volume_range_)\n",
    "  else:\n",
    "    background_volume = 0\n",
    "  background_volume_placeholder_ = tf.constant(background_volume,dtype=tf.float32)\n",
    "  background_data_placeholder_ = background_reshaped\n",
    "  background_mul = tf.multiply(background_data_placeholder_,\n",
    "                       background_volume_placeholder_)\n",
    "  background_add = tf.add(background_mul, sliced_foreground)\n",
    "  sliced_foreground = tf.clip_by_value(background_add, -1.0, 1.0)\n",
    "\n",
    "# apply preemphasis\n",
    "preemphasis_coef = 1 - 2 ** -5\n",
    "power_offset = 52\n",
    "num_mel_bins = model_settings['dct_coefficient_count']\n",
    "paddings = tf.constant([[0, 0], [1, 0]])\n",
    "# for some reason, tf.pad only works with the extra batch dimension, but then we remove it after pad\n",
    "sliced_foreground = tf.expand_dims(sliced_foreground, 0)\n",
    "sliced_foreground = tf.pad(tensor=sliced_foreground, paddings=paddings, mode='CONSTANT')\n",
    "sliced_foreground = sliced_foreground[:, 1:] - preemphasis_coef * sliced_foreground[:, :-1]\n",
    "sliced_foreground = tf.squeeze(sliced_foreground) \n",
    "# compute fft\n",
    "stfts = tf.signal.stft(sliced_foreground,  frame_length=model_settings['window_size_samples'], \n",
    "                       frame_step=model_settings['window_stride_samples'], fft_length=None,\n",
    "                       window_fn=functools.partial(\n",
    "                         tf.signal.hamming_window, periodic=False),\n",
    "                       pad_end=False,\n",
    "                       name='STFT')\n",
    "\n",
    "# compute magnitude spectrum [batch_size, num_frames, NFFT]\n",
    "magspec = tf.abs(stfts)\n",
    "num_spectrogram_bins = magspec.shape[-1]\n",
    "\n",
    "# compute power spectrum [num_frames, NFFT]\n",
    "powspec = (1 / model_settings['window_size_samples']) * tf.square(magspec)\n",
    "powspec_max = tf.reduce_max(input_tensor=powspec)\n",
    "powspec = tf.clip_by_value(powspec, 1e-30, powspec_max) # prevent -infinity on log\n",
    "\n",
    "def log10(x):\n",
    "  # Compute log base 10 on the tensorflow graph.\n",
    "  # x is a tensor.  returns log10(x) as a tensor\n",
    "  numerator = tf.math.log(x)\n",
    "  denominator = tf.math.log(tf.constant(10, dtype=numerator.dtype))\n",
    "  return numerator / denominator\n",
    "\n",
    "# Warp the linear-scale, magnitude spectrograms into the mel-scale.\n",
    "lower_edge_hertz, upper_edge_hertz = 0.0, model_settings['sample_rate'] / 2.0\n",
    "linear_to_mel_weight_matrix = (\n",
    "    tf.signal.linear_to_mel_weight_matrix(\n",
    "        num_mel_bins=num_mel_bins,\n",
    "        num_spectrogram_bins=num_spectrogram_bins,\n",
    "        sample_rate=model_settings['sample_rate'],\n",
    "        lower_edge_hertz=lower_edge_hertz,\n",
    "        upper_edge_hertz=upper_edge_hertz))\n",
    "print(f\"After powspec, shape = {powspec.shape}\")\n",
    "\n",
    "mel_spectrograms = tf.tensordot(powspec, linear_to_mel_weight_matrix,1)\n",
    "print(f\"After lin2mel, mel_spec shape = {log_mel_spec.shape}\")\n",
    "\n",
    "mel_spectrograms.set_shape(magspec.shape[:-1].concatenate(\n",
    "    linear_to_mel_weight_matrix.shape[-1:]))\n",
    "print(f\"After set_shape mel_spectrograms, shape = {mel_spectrograms.shape}\")\n",
    "\n",
    "log_mel_spec = 10 * log10(mel_spectrograms)\n",
    "# log_mel_spec = tf.expand_dims(log_mel_spec, -1, name=\"mel_spec\")\n",
    "\n",
    "log_mel_spec = (log_mel_spec + power_offset - 32 + 32.0) / 64.0\n",
    "log_mel_spec = tf.clip_by_value(log_mel_spec, 0, 1)\n",
    "print(f\"After log_mel_spec, shape = {log_mel_spec.shape}\")\n",
    "next_element['audio'] = log_mel_spec  \n"
   ]
  },
  {
   "cell_type": "code",
   "execution_count": null,
   "id": "dd6220ff-6fd5-4046-ab7f-8ea1690126cc",
   "metadata": {},
   "outputs": [],
   "source": []
  },
  {
   "cell_type": "code",
   "execution_count": null,
   "id": "d91bab22-467e-4590-9caf-28366a3005ff",
   "metadata": {},
   "outputs": [],
   "source": []
  }
 ],
 "metadata": {
  "kernelspec": {
   "display_name": "Python 3 (ipykernel)",
   "language": "python",
   "name": "python3"
  },
  "language_info": {
   "codemirror_mode": {
    "name": "ipython",
    "version": 3
   },
   "file_extension": ".py",
   "mimetype": "text/x-python",
   "name": "python",
   "nbconvert_exporter": "python",
   "pygments_lexer": "ipython3",
   "version": "3.11.7"
  }
 },
 "nbformat": 4,
 "nbformat_minor": 5
}
