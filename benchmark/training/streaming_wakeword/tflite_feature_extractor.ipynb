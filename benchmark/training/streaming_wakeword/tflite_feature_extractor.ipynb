{
 "cells": [
  {
   "cell_type": "code",
   "execution_count": 1,
   "id": "386153cd-684f-4bca-a6ad-eca4bcccfb89",
   "metadata": {},
   "outputs": [],
   "source": [
    "import tensorflow as tf\n",
    "\n",
    "from tensorflow.lite.experimental.microfrontend.python.ops import audio_microfrontend_op as frontend_op\n",
    "from tensorflow import keras\n",
    "from tensorflow.keras import layers\n",
    "from tensorflow.python.platform import gfile\n",
    "\n",
    "import tensorflow_model_optimization as tfmot\n",
    "\n",
    "import functools\n",
    "\n",
    "import matplotlib.pyplot as plt\n",
    "import numpy as np\n",
    "import seaborn as sns\n",
    "import os, pickle\n",
    "import shutil\n",
    "import json\n",
    "from scipy.io import  wavfile\n",
    "from IPython import display\n",
    "\n",
    "import str_ww_util as util\n",
    "import get_dataset\n",
    "import keras_model as models\n",
    "\n",
    "from IPython import display"
   ]
  },
  {
   "cell_type": "code",
   "execution_count": 2,
   "id": "d6132467-f897-42fe-a324-edd03ba13f0d",
   "metadata": {},
   "outputs": [],
   "source": [
    "rng = np.random.default_rng(2024)"
   ]
  },
  {
   "cell_type": "code",
   "execution_count": 3,
   "id": "1db02f34-2ff4-43b2-b86d-0b46f3a4d42e",
   "metadata": {},
   "outputs": [],
   "source": [
    "from get_dataset import decode_audio, get_label, get_waveform_and_label, \\\n",
    "                        convert_labels_str2int, convert_to_int16, cast_and_pad, \\\n",
    "                        convert_dataset, get_preprocess_audio_func, prepare_background_data, \\\n",
    "                        get_training_data, count_labels, is_batched"
   ]
  },
  {
   "cell_type": "code",
   "execution_count": 4,
   "id": "c0df306e-432a-4f12-a73a-cc945341dd40",
   "metadata": {},
   "outputs": [],
   "source": [
    "Flags, unparsed = util.parse_command()"
   ]
  },
  {
   "cell_type": "code",
   "execution_count": 5,
   "id": "7b889317-b130-4b06-97a6-93713873e60b",
   "metadata": {},
   "outputs": [],
   "source": [
    "## Set these for an extra short test just to validate that the code runs\n",
    "Flags.num_train_samples = 100\n",
    "Flags.num_val_samples = 100\n",
    "Flags.num_test_samples = 100\n",
    "\n",
    "load_pretrained_model = True # True to load from a file, False to build/train from scratch\n",
    "save_model = False\n",
    "\n",
    "# 'trained_models/str_ww_model.h5' is the default save path for train.py\n",
    "pretrained_model_path = 'trained_models/str_ww_model.h5' # path to load from if load_pretrained_model is True\n",
    "\n",
    "Flags.epochs = 2"
   ]
  },
  {
   "cell_type": "code",
   "execution_count": 6,
   "id": "14d4028f-8adc-46a1-ac5c-dd7f17647087",
   "metadata": {},
   "outputs": [],
   "source": [
    "Flags.background_volume=1.0 # experimenting\n",
    "Flags.use_qat = True"
   ]
  },
  {
   "cell_type": "code",
   "execution_count": 7,
   "id": "07d86f7b-f4de-4b5e-9aed-85ddd5862714",
   "metadata": {},
   "outputs": [],
   "source": [
    "try:\n",
    "    with open('streaming_config.json', 'r') as fpi:\n",
    "        streaming_config = json.load(fpi)\n",
    "    Flags.data_dir = streaming_config['speech_commands_path']\n",
    "except:\n",
    "    raise RuntimeError(\"\"\"\n",
    "        In this directory, copy streaming_config_template.json to streaming_config.json\n",
    "        and edit it to point to the directories where you have the speech commands dataset\n",
    "        and (optionally) the MUSAN noise data set.\n",
    "        \"\"\")\n",
    "Flags.bg_path = Flags.data_dir"
   ]
  },
  {
   "cell_type": "code",
   "execution_count": 8,
   "id": "82a182fc-e9bf-4e03-a793-01d94561a370",
   "metadata": {},
   "outputs": [],
   "source": [
    "# ds_train, ds_test, ds_val = get_training_data(Flags)\n",
    "\n",
    "label_count=3\n",
    "background_frequency = Flags.background_frequency\n",
    "background_volume_range_= Flags.background_volume\n",
    "model_settings = models.prepare_model_settings(label_count, Flags)"
   ]
  },
  {
   "cell_type": "code",
   "execution_count": 9,
   "id": "4237782e-496f-4967-98d7-ff6ac138beea",
   "metadata": {},
   "outputs": [
    {
     "data": {
      "text/plain": [
       "<module 'get_dataset' from '/Users/jeremy/dev/tiny_mlperf/tiny_main/benchmark/training/streaming_wakeword/get_dataset.py'>"
      ]
     },
     "execution_count": 9,
     "metadata": {},
     "output_type": "execute_result"
    }
   ],
   "source": [
    "import importlib\n",
    "importlib.reload(get_dataset)"
   ]
  },
  {
   "cell_type": "code",
   "execution_count": 10,
   "id": "a2b1aef4-9059-440a-8174-b685ddde8ffe",
   "metadata": {},
   "outputs": [
    {
     "name": "stderr",
     "output_type": "stream",
     "text": [
      "2024-02-12 21:49:56.537732: I metal_plugin/src/device/metal_device.cc:1154] Metal device set to: Apple M1\n",
      "2024-02-12 21:49:56.537752: I metal_plugin/src/device/metal_device.cc:296] systemMemory: 16.00 GB\n",
      "2024-02-12 21:49:56.537759: I metal_plugin/src/device/metal_device.cc:313] maxCacheSize: 5.33 GB\n",
      "2024-02-12 21:49:56.537786: I tensorflow/core/common_runtime/pluggable_device/pluggable_device_factory.cc:306] Could not identify NUMA node of platform GPU ID 0, defaulting to 0. Your kernel may not have been built with NUMA support.\n",
      "2024-02-12 21:49:56.537804: I tensorflow/core/common_runtime/pluggable_device/pluggable_device_factory.cc:272] Created TensorFlow device (/job:localhost/replica:0/task:0/device:GPU:0 with 0 MB memory) -> physical PluggableDevice (device: 0, name: METAL, pci bus id: <undefined>)\n"
     ]
    },
    {
     "name": "stdout",
     "output_type": "stream",
     "text": [
      "wav_decoder shape = (None,)\n",
      "sliced_foreground shape = (16000,)\n",
      "sliced_foreground shape = (1, 16000)\n",
      "paddings shape[] = (2, 2)\n",
      "wav_decoder shape = (None,)\n",
      "sliced_foreground shape = (16000,)\n",
      "sliced_foreground shape = (1, 16000)\n",
      "paddings shape[] = (2, 2)\n",
      "wav_decoder shape = (None,)\n",
      "sliced_foreground shape = (16000,)\n",
      "sliced_foreground shape = (1, 16000)\n",
      "paddings shape[] = (2, 2)\n"
     ]
    }
   ],
   "source": [
    "ds_train, ds_test, ds_val = get_dataset.get_training_data(Flags)\n"
   ]
  },
  {
   "cell_type": "code",
   "execution_count": 11,
   "id": "a45f7176-6ce8-4a1b-b39f-96f5377b1113",
   "metadata": {},
   "outputs": [
    {
     "name": "stdout",
     "output_type": "stream",
     "text": [
      "One element from the training set has shape:\n",
      "Input tensor shape: (49, 1, 40)\n",
      "Label shape: (3,)\n",
      "Label : [0. 0. 1.]\n"
     ]
    }
   ],
   "source": [
    "for dat in ds_train.unbatch().take(1):\n",
    "  print(\"One element from the training set has shape:\")\n",
    "  print(f\"Input tensor shape: {dat[0].shape}\")\n",
    "  print(f\"Label shape: {dat[1].shape}\")\n",
    "  print(f\"Label : {dat[1]}\")\n",
    "  break\n"
   ]
  },
  {
   "cell_type": "code",
   "execution_count": 12,
   "id": "b5bc3b5f-b660-485c-a519-b1ca8c46db51",
   "metadata": {},
   "outputs": [],
   "source": [
    "## probably don't need to shuffle val and test sets\n",
    "train_shuffle_buffer_size = 85511\n",
    "ds_train = ds_train.shuffle(train_shuffle_buffer_size)"
   ]
  },
  {
   "cell_type": "code",
   "execution_count": 13,
   "id": "42679880-b1be-49f5-9848-d7627e560557",
   "metadata": {},
   "outputs": [
    {
     "name": "stdout",
     "output_type": "stream",
     "text": [
      "wav_decoder shape = (None,)\n",
      "sliced_foreground shape = (16000,)\n",
      "wav_decoder shape = (None,)\n",
      "sliced_foreground shape = (16000,)\n",
      "wav_decoder shape = (None,)\n",
      "sliced_foreground shape = (16000,)\n"
     ]
    }
   ],
   "source": [
    "Flags.feature_type = 'td_samples'\n",
    "ds_train_wav, ds_test_wav, ds_val_wav = get_training_data(Flags)\n",
    "test_wav, test_label = next(ds_test_wav.unbatch().as_numpy_iterator())\n",
    "test_wav = test_wav.squeeze()\n",
    "test_wav = test_wav/np.max(np.abs(test_wav))"
   ]
  },
  {
   "cell_type": "code",
   "execution_count": 14,
   "id": "50fbc599-06a3-435a-99bd-9cf28be5de17",
   "metadata": {},
   "outputs": [
    {
     "name": "stdout",
     "output_type": "stream",
     "text": [
      "Test wav shape = (16000,), min/max = -1.000/-1.000\n"
     ]
    }
   ],
   "source": [
    "\n",
    "print(f\"Test wav shape = {test_wav.shape}, min/max = {np.min(test_wav):5.3f}/{np.min(test_wav):5.3f}\")"
   ]
  },
  {
   "cell_type": "code",
   "execution_count": 15,
   "id": "e7bdaf43-3043-4b2a-aa9d-17e953569629",
   "metadata": {},
   "outputs": [],
   "source": [
    "## Modify some settings so we only process one frame at a time\n",
    "model_settings_online = model_settings.copy()\n",
    "model_settings_online['desired_samples']    = model_settings_online['window_size_samples']\n",
    "model_settings_online['spectrogram_length'] = 1\n",
    "model_settings_online['fingerprint_size'] = model_settings_online['dct_coefficient_count']\n"
   ]
  },
  {
   "cell_type": "code",
   "execution_count": 16,
   "id": "25b2a585-edfe-4a5e-99a8-f5a070ec9066",
   "metadata": {},
   "outputs": [],
   "source": [
    "feature_extractor_1frame = get_preprocess_audio_func(model_settings_online, is_training=False)\n",
    "feature_extractor_full = get_preprocess_audio_func(model_settings, is_training=False)\n"
   ]
  },
  {
   "cell_type": "code",
   "execution_count": 17,
   "id": "e9719556-353a-4a5f-9469-e778cf89c6f8",
   "metadata": {},
   "outputs": [
    {
     "name": "stdout",
     "output_type": "stream",
     "text": [
      "wav_decoder shape = (16000,)\n",
      "sliced_foreground shape = (16000,)\n",
      "sliced_foreground shape = (1, 16000)\n",
      "paddings shape[] = (2, 2)\n",
      "(49, 1, 40)\n"
     ]
    }
   ],
   "source": [
    "x_feats_perf = feature_extractor_full({'audio':test_wav})['audio'].numpy()\n",
    "print(x_feats_perf.shape)"
   ]
  },
  {
   "cell_type": "code",
   "execution_count": 18,
   "id": "b04f11a4-dc68-4aff-8f7e-6079b7b4540c",
   "metadata": {},
   "outputs": [
    {
     "name": "stdout",
     "output_type": "stream",
     "text": [
      "wav_decoder shape = (16000,)\n",
      "sliced_foreground shape = (16000,)\n",
      "sliced_foreground shape = (1, 16000)\n",
      "paddings shape[] = (2, 2)\n",
      "wav_decoder shape = (480,)\n",
      "sliced_foreground shape = (480,)\n",
      "sliced_foreground shape = (1, 480)\n",
      "paddings shape[] = (2, 2)\n",
      "wav_decoder shape = (480,)\n",
      "sliced_foreground shape = (480,)\n",
      "sliced_foreground shape = (1, 480)\n",
      "paddings shape[] = (2, 2)\n",
      "wav_decoder shape = (480,)\n",
      "sliced_foreground shape = (480,)\n",
      "sliced_foreground shape = (1, 480)\n",
      "paddings shape[] = (2, 2)\n",
      "wav_decoder shape = (480,)\n",
      "sliced_foreground shape = (480,)\n",
      "sliced_foreground shape = (1, 480)\n",
      "paddings shape[] = (2, 2)\n",
      "wav_decoder shape = (480,)\n",
      "sliced_foreground shape = (480,)\n",
      "sliced_foreground shape = (1, 480)\n",
      "paddings shape[] = (2, 2)\n",
      "wav_decoder shape = (480,)\n",
      "sliced_foreground shape = (480,)\n",
      "sliced_foreground shape = (1, 480)\n",
      "paddings shape[] = (2, 2)\n",
      "wav_decoder shape = (480,)\n",
      "sliced_foreground shape = (480,)\n",
      "sliced_foreground shape = (1, 480)\n",
      "paddings shape[] = (2, 2)\n",
      "wav_decoder shape = (480,)\n",
      "sliced_foreground shape = (480,)\n",
      "sliced_foreground shape = (1, 480)\n",
      "paddings shape[] = (2, 2)\n",
      "wav_decoder shape = (480,)\n",
      "sliced_foreground shape = (480,)\n",
      "sliced_foreground shape = (1, 480)\n",
      "paddings shape[] = (2, 2)\n",
      "wav_decoder shape = (480,)\n",
      "sliced_foreground shape = (480,)\n",
      "sliced_foreground shape = (1, 480)\n",
      "paddings shape[] = (2, 2)\n",
      "wav_decoder shape = (480,)\n",
      "sliced_foreground shape = (480,)\n",
      "sliced_foreground shape = (1, 480)\n",
      "paddings shape[] = (2, 2)\n",
      "wav_decoder shape = (480,)\n",
      "sliced_foreground shape = (480,)\n",
      "sliced_foreground shape = (1, 480)\n",
      "paddings shape[] = (2, 2)\n",
      "wav_decoder shape = (480,)\n",
      "sliced_foreground shape = (480,)\n",
      "sliced_foreground shape = (1, 480)\n",
      "paddings shape[] = (2, 2)\n",
      "wav_decoder shape = (480,)\n",
      "sliced_foreground shape = (480,)\n",
      "sliced_foreground shape = (1, 480)\n",
      "paddings shape[] = (2, 2)\n",
      "wav_decoder shape = (480,)\n",
      "sliced_foreground shape = (480,)\n",
      "sliced_foreground shape = (1, 480)\n",
      "paddings shape[] = (2, 2)\n",
      "wav_decoder shape = (480,)\n",
      "sliced_foreground shape = (480,)\n",
      "sliced_foreground shape = (1, 480)\n",
      "paddings shape[] = (2, 2)\n",
      "wav_decoder shape = (480,)\n",
      "sliced_foreground shape = (480,)\n",
      "sliced_foreground shape = (1, 480)\n",
      "paddings shape[] = (2, 2)\n",
      "wav_decoder shape = (480,)\n",
      "sliced_foreground shape = (480,)\n",
      "sliced_foreground shape = (1, 480)\n",
      "paddings shape[] = (2, 2)\n",
      "wav_decoder shape = (480,)\n",
      "sliced_foreground shape = (480,)\n",
      "sliced_foreground shape = (1, 480)\n",
      "paddings shape[] = (2, 2)\n",
      "wav_decoder shape = (480,)\n",
      "sliced_foreground shape = (480,)\n",
      "sliced_foreground shape = (1, 480)\n",
      "paddings shape[] = (2, 2)\n",
      "wav_decoder shape = (480,)\n",
      "sliced_foreground shape = (480,)\n",
      "sliced_foreground shape = (1, 480)\n",
      "paddings shape[] = (2, 2)\n",
      "wav_decoder shape = (480,)\n",
      "sliced_foreground shape = (480,)\n",
      "sliced_foreground shape = (1, 480)\n",
      "paddings shape[] = (2, 2)\n",
      "wav_decoder shape = (480,)\n",
      "sliced_foreground shape = (480,)\n",
      "sliced_foreground shape = (1, 480)\n",
      "paddings shape[] = (2, 2)\n",
      "wav_decoder shape = (480,)\n",
      "sliced_foreground shape = (480,)\n",
      "sliced_foreground shape = (1, 480)\n",
      "paddings shape[] = (2, 2)\n",
      "wav_decoder shape = (480,)\n",
      "sliced_foreground shape = (480,)\n",
      "sliced_foreground shape = (1, 480)\n",
      "paddings shape[] = (2, 2)\n",
      "wav_decoder shape = (480,)\n",
      "sliced_foreground shape = (480,)\n",
      "sliced_foreground shape = (1, 480)\n",
      "paddings shape[] = (2, 2)\n",
      "wav_decoder shape = (480,)\n",
      "sliced_foreground shape = (480,)\n",
      "sliced_foreground shape = (1, 480)\n",
      "paddings shape[] = (2, 2)\n",
      "wav_decoder shape = (480,)\n",
      "sliced_foreground shape = (480,)\n",
      "sliced_foreground shape = (1, 480)\n",
      "paddings shape[] = (2, 2)\n",
      "wav_decoder shape = (480,)\n",
      "sliced_foreground shape = (480,)\n",
      "sliced_foreground shape = (1, 480)\n",
      "paddings shape[] = (2, 2)\n",
      "wav_decoder shape = (480,)\n",
      "sliced_foreground shape = (480,)\n",
      "sliced_foreground shape = (1, 480)\n",
      "paddings shape[] = (2, 2)\n",
      "wav_decoder shape = (480,)\n",
      "sliced_foreground shape = (480,)\n",
      "sliced_foreground shape = (1, 480)\n",
      "paddings shape[] = (2, 2)\n",
      "wav_decoder shape = (480,)\n",
      "sliced_foreground shape = (480,)\n",
      "sliced_foreground shape = (1, 480)\n",
      "paddings shape[] = (2, 2)\n",
      "wav_decoder shape = (480,)\n",
      "sliced_foreground shape = (480,)\n",
      "sliced_foreground shape = (1, 480)\n",
      "paddings shape[] = (2, 2)\n",
      "wav_decoder shape = (480,)\n",
      "sliced_foreground shape = (480,)\n",
      "sliced_foreground shape = (1, 480)\n",
      "paddings shape[] = (2, 2)\n",
      "wav_decoder shape = (480,)\n",
      "sliced_foreground shape = (480,)\n",
      "sliced_foreground shape = (1, 480)\n",
      "paddings shape[] = (2, 2)\n",
      "wav_decoder shape = (480,)\n",
      "sliced_foreground shape = (480,)\n",
      "sliced_foreground shape = (1, 480)\n",
      "paddings shape[] = (2, 2)\n",
      "wav_decoder shape = (480,)\n",
      "sliced_foreground shape = (480,)\n",
      "sliced_foreground shape = (1, 480)\n",
      "paddings shape[] = (2, 2)\n",
      "wav_decoder shape = (480,)\n",
      "sliced_foreground shape = (480,)\n",
      "sliced_foreground shape = (1, 480)\n",
      "paddings shape[] = (2, 2)\n",
      "wav_decoder shape = (480,)\n",
      "sliced_foreground shape = (480,)\n",
      "sliced_foreground shape = (1, 480)\n",
      "paddings shape[] = (2, 2)\n",
      "wav_decoder shape = (480,)\n",
      "sliced_foreground shape = (480,)\n",
      "sliced_foreground shape = (1, 480)\n",
      "paddings shape[] = (2, 2)\n",
      "wav_decoder shape = (480,)\n",
      "sliced_foreground shape = (480,)\n",
      "sliced_foreground shape = (1, 480)\n",
      "paddings shape[] = (2, 2)\n",
      "wav_decoder shape = (480,)\n",
      "sliced_foreground shape = (480,)\n",
      "sliced_foreground shape = (1, 480)\n",
      "paddings shape[] = (2, 2)\n",
      "wav_decoder shape = (480,)\n",
      "sliced_foreground shape = (480,)\n",
      "sliced_foreground shape = (1, 480)\n",
      "paddings shape[] = (2, 2)\n",
      "wav_decoder shape = (480,)\n",
      "sliced_foreground shape = (480,)\n",
      "sliced_foreground shape = (1, 480)\n",
      "paddings shape[] = (2, 2)\n",
      "wav_decoder shape = (480,)\n",
      "sliced_foreground shape = (480,)\n",
      "sliced_foreground shape = (1, 480)\n",
      "paddings shape[] = (2, 2)\n",
      "wav_decoder shape = (480,)\n",
      "sliced_foreground shape = (480,)\n",
      "sliced_foreground shape = (1, 480)\n",
      "paddings shape[] = (2, 2)\n",
      "wav_decoder shape = (480,)\n",
      "sliced_foreground shape = (480,)\n",
      "sliced_foreground shape = (1, 480)\n",
      "paddings shape[] = (2, 2)\n",
      "wav_decoder shape = (480,)\n",
      "sliced_foreground shape = (480,)\n",
      "sliced_foreground shape = (1, 480)\n",
      "paddings shape[] = (2, 2)\n",
      "wav_decoder shape = (480,)\n",
      "sliced_foreground shape = (480,)\n",
      "sliced_foreground shape = (1, 480)\n",
      "paddings shape[] = (2, 2)\n"
     ]
    }
   ],
   "source": [
    "## Do we get the same features by extracting one frame at a time, or\n",
    "## is there any frame-to-frame adaptation\n",
    "spec_one_shot = feature_extractor_full({'audio':test_wav})['audio'].numpy()\n",
    "spec_per_frame = np.nan*np.zeros(spec_one_shot.shape)\n",
    "\n",
    "\n",
    "for i in range(model_settings['spectrogram_length']):\n",
    "  start = i*model_settings['window_stride_samples']\n",
    "  stop = start + model_settings['window_size_samples']\n",
    "  wav_clip = test_wav[start:stop]\n",
    "  one_mel_spectrum = feature_extractor_1frame({'audio':wav_clip})['audio'].numpy()\n",
    "  spec_per_frame[i,0,:] = one_mel_spectrum\n",
    "  "
   ]
  },
  {
   "cell_type": "code",
   "execution_count": 19,
   "id": "799c1656-337c-4a1e-a8c3-439f1465b942",
   "metadata": {},
   "outputs": [
    {
     "data": {
      "text/plain": [
       "<matplotlib.image.AxesImage at 0x15e917650>"
      ]
     },
     "execution_count": 19,
     "metadata": {},
     "output_type": "execute_result"
    },
    {
     "data": {
      "image/png": "[encoded data removed]",
      "text/plain": [
       "<Figure size 640x480 with 2 Axes>"
      ]
     },
     "metadata": {},
     "output_type": "display_data"
    }
   ],
   "source": [
    "plt.subplot(2,1,1)\n",
    "plt.imshow(spec_one_shot.squeeze().T, origin='lower')\n",
    "plt.subplot(2,1,2)\n",
    "plt.imshow(spec_per_frame.squeeze().T, origin='lower')\n"
   ]
  },
  {
   "cell_type": "code",
   "execution_count": 20,
   "id": "e9c2d0d8-cc7d-48a5-b17f-8de7986ea69f",
   "metadata": {},
   "outputs": [
    {
     "data": {
      "image/png": "[encoded data removed]",
      "text/plain": [
       "<Figure size 640x480 with 1 Axes>"
      ]
     },
     "metadata": {},
     "output_type": "display_data"
    }
   ],
   "source": [
    "plt.plot(spec_one_shot.squeeze().T[:,:], spec_per_frame.squeeze().T[:,:], '.')\n",
    "\n",
    "plt.grid(True)"
   ]
  },
  {
   "cell_type": "markdown",
   "id": "e71dad65-2f5a-48f5-a01c-85b87e6101a5",
   "metadata": {},
   "source": [
    "## Convert the Feature Extractor into a Model\n"
   ]
  },
  {
   "cell_type": "code",
   "execution_count": 21,
   "id": "b5702a08-1b61-4f46-bb41-769cbed6ea99",
   "metadata": {},
   "outputs": [
    {
     "data": {
      "text/plain": [
       "(480,)"
      ]
     },
     "execution_count": 21,
     "metadata": {},
     "output_type": "execute_result"
    }
   ],
   "source": [
    "wav_clip.shape"
   ]
  },
  {
   "cell_type": "code",
   "execution_count": 22,
   "id": "b5c8b519-a973-493c-9120-6133cd6fc601",
   "metadata": {},
   "outputs": [
    {
     "data": {
      "text/plain": [
       "<module 'get_dataset' from '/Users/jeremy/dev/tiny_mlperf/tiny_main/benchmark/training/streaming_wakeword/get_dataset.py'>"
      ]
     },
     "execution_count": 22,
     "metadata": {},
     "output_type": "execute_result"
    }
   ],
   "source": [
    "import importlib\n",
    "importlib.reload(get_dataset)\n",
    "# import get_dataset"
   ]
  },
  {
   "cell_type": "code",
   "execution_count": null,
   "id": "f1aebbd4-4616-46a2-9322-c8dc90d9ddb1",
   "metadata": {},
   "outputs": [],
   "source": []
  },
  {
   "cell_type": "code",
   "execution_count": 23,
   "id": "0f36aafb-d1ed-4d2b-bfec-faef5f595a2e",
   "metadata": {},
   "outputs": [
    {
     "name": "stdout",
     "output_type": "stream",
     "text": [
      "wav_decoder shape = (1, 480)\n",
      "sliced_foreground shape = (1, 480)\n",
      "sliced_foreground shape = (1, 480)\n",
      "paddings shape[] = (2, 2)\n"
     ]
    }
   ],
   "source": [
    "wav_in = tf.keras.layers.Input(shape=(480,), batch_size=1)\n",
    "streaming_feature_exctractor = get_dataset.get_preprocess_audio_func(model_settings_online, \n",
    "                                                                     is_training=False,\n",
    "                                                                     wave_frame_input=True)\n",
    "features = streaming_feature_exctractor(wav_in)\n",
    "\n",
    "feature_model = tf.keras.models.Model(inputs=wav_in, outputs=features)"
   ]
  },
  {
   "cell_type": "markdown",
   "id": "9419ef55-1132-425c-91b9-534bfe7679de",
   "metadata": {},
   "source": [
    "## Scratch Space\n"
   ]
  },
  {
   "cell_type": "code",
   "execution_count": 24,
   "id": "d91bab22-467e-4590-9caf-28366a3005ff",
   "metadata": {},
   "outputs": [
    {
     "ename": "NameError",
     "evalue": "name 'feature_extractor' is not defined",
     "output_type": "error",
     "traceback": [
      "\u001b[0;31m---------------------------------------------------------------------------\u001b[0m",
      "\u001b[0;31mNameError\u001b[0m                                 Traceback (most recent call last)",
      "Cell \u001b[0;32mIn[24], line 1\u001b[0m\n\u001b[0;32m----> 1\u001b[0m \u001b[43mfeature_extractor\u001b[49m\n",
      "\u001b[0;31mNameError\u001b[0m: name 'feature_extractor' is not defined"
     ]
    }
   ],
   "source": [
    "feature_extractor"
   ]
  },
  {
   "cell_type": "code",
   "execution_count": null,
   "id": "37e38bf4-91a8-4599-a179-8d0c3173d088",
   "metadata": {},
   "outputs": [],
   "source": [
    "def get_ufe_spectrum(wav_in):\n",
    "    i16max = 2**15-1\n",
    "    i16min = -2**15\n",
    "    preemphasis_coef = 1 - 2 ** -5\n",
    "    \n",
    "    ufe_args = {\n",
    "        'sample_rate':16000,\n",
    "        'window_size':window_size_ms,\n",
    "        'window_step':window_stride_ms,\n",
    "        'num_channels':40,\n",
    "        'upper_band_limit':7999.9,\n",
    "        'lower_band_limit':0.0,\n",
    "        'smoothing_bits':10,\n",
    "        'even_smoothing':0.0, # 0.025,\n",
    "        'odd_smoothing':0.0, # 0.025,\n",
    "        'min_signal_remaining':0.00,\n",
    "        'enable_pcan':False,\n",
    "        'pcan_strength':0.0,\n",
    "        'pcan_offset':80.0,\n",
    "        'gain_bits':21,\n",
    "        'enable_log':True,\n",
    "        'scale_shift':6,\n",
    "        'left_context':0,\n",
    "        'right_context':0,\n",
    "        'frame_stride':1,\n",
    "        'zero_padding':False,\n",
    "        'out_scale':1,\n",
    "        'out_type':tf.uint16\n",
    "    }\n",
    "    # tf.constant(1-2**-5, dtype='int16')\n",
    "    wav_in = wav_in[1:] - preemphasis_coef * wav_in[:-1]\n",
    "    zero_padding = tf.zeros(16000 - len(wav_in), dtype=tf.int16)\n",
    "    wav_in = tf.cast(0.5*wav_in*(i16max-i16min), tf.int16)  # scale float [-1,+1]=>INT16\n",
    "    equal_length = tf.concat([wav_in, zero_padding], 0)\n",
    "    \n",
    "    ## Make sure these labels correspond to those used in micro_features_micro_features_generator.cpp\n",
    "    spectrogram = frontend_op.audio_microfrontend(equal_length, **ufe_args)\n",
    "                                                  # sample_rate=16000, \n",
    "                                                  # num_channels=40, window_size=window_size_ms, \n",
    "                                                  # window_step=window_stride_ms)\n",
    "    return spectrogram"
   ]
  }
 ],
 "metadata": {
  "kernelspec": {
   "display_name": "Python 3 (ipykernel)",
   "language": "python",
   "name": "python3"
  },
  "language_info": {
   "codemirror_mode": {
    "name": "ipython",
    "version": 3
   },
   "file_extension": ".py",
   "mimetype": "text/x-python",
   "name": "python",
   "nbconvert_exporter": "python",
   "pygments_lexer": "ipython3",
   "version": "3.11.7"
  }
 },
 "nbformat": 4,
 "nbformat_minor": 5
}
